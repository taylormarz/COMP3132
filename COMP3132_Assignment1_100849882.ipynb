{
  "nbformat": 4,
  "nbformat_minor": 0,
  "metadata": {
    "colab": {
      "provenance": [],
      "authorship_tag": "ABX9TyOFqV9ET/wRdvoKA77RF/Ju",
      "include_colab_link": true
    },
    "kernelspec": {
      "name": "python3",
      "display_name": "Python 3"
    },
    "language_info": {
      "name": "python"
    }
  },
  "cells": [
    {
      "cell_type": "markdown",
      "metadata": {
        "id": "view-in-github",
        "colab_type": "text"
      },
      "source": [
        "<a href=\"https://colab.research.google.com/github/taylormarz/COMP3132/blob/main/COMP3132_Assignment1_100849882.ipynb\" target=\"_parent\"><img src=\"https://colab.research.google.com/assets/colab-badge.svg\" alt=\"Open In Colab\"/></a>"
      ]
    },
    {
      "cell_type": "code",
      "execution_count": 1,
      "metadata": {
        "id": "X2CwG0JYsrRj"
      },
      "outputs": [],
      "source": [
        "# COMP3132-Assignment1-100849882.ipynb\n",
        "# Taylor Martin, Student ID: 100849882"
      ]
    },
    {
      "cell_type": "code",
      "source": [
        "import numpy as np\n",
        "import matplotlib.pyplot as plt\n",
        "import seaborn as sns\n",
        "import tensorflow as tf"
      ],
      "metadata": {
        "id": "lNLmUYuUs4eW"
      },
      "execution_count": 77,
      "outputs": []
    },
    {
      "cell_type": "code",
      "source": [
        "from keras.datasets import fashion_mnist"
      ],
      "metadata": {
        "id": "gTsBVpdFvyMt"
      },
      "execution_count": 9,
      "outputs": []
    },
    {
      "cell_type": "code",
      "source": [
        "(train_images, train_labels), (test_images, test_labels) = fashion_mnist.load_data()"
      ],
      "metadata": {
        "id": "8HUTkFcRwEYt"
      },
      "execution_count": 11,
      "outputs": []
    },
    {
      "cell_type": "markdown",
      "source": [
        "# **Q1: What are the dimensions of train_images, train_labels, test_images, and test_labels?**"
      ],
      "metadata": {
        "id": "CNrYFafsvYZF"
      }
    },
    {
      "cell_type": "code",
      "source": [
        "print(\"Train Images Dimension:\", train_images.ndim)\n",
        "print(\"Train Labels Dimension:\", train_labels.ndim)\n",
        "print(\"Test Images Dimension: \", test_images.ndim)\n",
        "print(\"Test Labels Dimension: \", test_labels.ndim)"
      ],
      "metadata": {
        "colab": {
          "base_uri": "https://localhost:8080/"
        },
        "id": "ooO5r-spuDd-",
        "outputId": "98d19e07-107e-4f87-d44b-c5508570ac40"
      },
      "execution_count": 21,
      "outputs": [
        {
          "output_type": "stream",
          "name": "stdout",
          "text": [
            "Train Images Dimension: 3\n",
            "Train Labels Dimension: 1\n",
            "Test Images Dimension:  3\n",
            "Test Labels Dimension:  1\n"
          ]
        }
      ]
    },
    {
      "cell_type": "markdown",
      "source": [
        "## **Q2: What are the lengths of train_labels and test_labels?**"
      ],
      "metadata": {
        "id": "puAc5U43xB3v"
      }
    },
    {
      "cell_type": "code",
      "source": [
        "print(\"Train Labels Length:\", len(train_labels))\n",
        "print(\"Test Labels Length: \", len(test_labels))"
      ],
      "metadata": {
        "colab": {
          "base_uri": "https://localhost:8080/"
        },
        "id": "AI4PgwcMxJVN",
        "outputId": "8a2638d4-6954-42aa-880d-833b1d7d45a7"
      },
      "execution_count": 25,
      "outputs": [
        {
          "output_type": "stream",
          "name": "stdout",
          "text": [
            "Train Labels Length: 60000\n",
            "Test Labels Length:  10000\n"
          ]
        }
      ]
    },
    {
      "cell_type": "markdown",
      "source": [
        "## **Q3: Please show some of the train and test labels.**"
      ],
      "metadata": {
        "id": "eiItexSoxlUP"
      }
    },
    {
      "cell_type": "code",
      "source": [
        "print(\"Train Labels:\", train_labels[:5])\n",
        "print(\"Test Labels: \", test_labels[:5])"
      ],
      "metadata": {
        "colab": {
          "base_uri": "https://localhost:8080/"
        },
        "id": "W_nDfpQuxkvp",
        "outputId": "21ae261a-d122-4220-db02-c9e356f80430"
      },
      "execution_count": 31,
      "outputs": [
        {
          "output_type": "stream",
          "name": "stdout",
          "text": [
            "Train Labels: [9 0 0 3 0]\n",
            "Test Labels:  [9 2 1 1 6]\n"
          ]
        }
      ]
    },
    {
      "cell_type": "markdown",
      "source": [
        "# **Q4: Please show the digital content of image index 5 in the training dataset.**"
      ],
      "metadata": {
        "id": "mPVuDJuNysgs"
      }
    },
    {
      "cell_type": "code",
      "source": [
        "# I'm writing this as a function since I'll need to do the same thing in a few questions\n",
        "def digitalContent(index, setType):\n",
        "  image_data = setType[index]\n",
        "\n",
        "  for row in image_data:\n",
        "    print(\"\".join([str(elem).ljust(3) for elem in row]))\n",
        "\n",
        "digitalContent(5, train_images)"
      ],
      "metadata": {
        "colab": {
          "base_uri": "https://localhost:8080/"
        },
        "id": "aXul7pQmyxxS",
        "outputId": "8ad0437c-07be-4fc9-970f-bd3e39c5ef36"
      },
      "execution_count": 66,
      "outputs": [
        {
          "output_type": "stream",
          "name": "stdout",
          "text": [
            "0  0  0  0  1  0  0  0  0  22 88 1881721321251411991439  0  0  0  1  0  0  0  0  0  \n",
            "0  0  0  1  0  0  20 13119920619620224225525525022219720618812617 0  0  0  0  0  0  \n",
            "0  0  0  1  0  35 21419118317817516815016215915215817918318919518582 0  0  0  0  0  \n",
            "0  0  0  0  0  17019017217717617116916215514815416917417517517718318812 0  0  0  0  \n",
            "0  0  0  0  25 19418017817418418718918718418118920019719319017817519490 0  0  0  0  \n",
            "0  0  0  0  42 2181911972082042112092102122112142152132142112111912001580  0  0  0  \n",
            "0  0  0  0  88 22121521721921118515011810799 88 83 90 1352122032072191690  0  0  0  \n",
            "0  0  0  0  0  27 11816240 0  0  0  10 19 28 39 47 36 0  0  2032302202030  0  0  0  \n",
            "0  0  0  0  13813671 69 54 21621720318416816316216317822118638 26 7  0  0  0  0  0  \n",
            "0  0  0  0  67 13415422412966 81 11712912813213713112986 73 15715113421618 0  0  0  \n",
            "0  0  0  0  20319817218320625525525024324023923523824425523818416086 98 0  0  0  0  \n",
            "0  0  0  0  12218822415110512797 10010511411711711310398 11114225419125549 0  0  0  \n",
            "0  0  0  0  16317920095 15419819720020019819719819920220017686 20615716210 0  0  0  \n",
            "0  0  0  0  19720122971 14419418118317918218017918019018519776 21918520134 0  0  0  \n",
            "0  0  0  0  19919322658 15419218418718418618418518319219120056 21920320760 0  0  0  \n",
            "0  0  0  0  20119422441 16319018618618418518318517819019420233 21120020673 0  0  0  \n",
            "0  0  0  0  20119722217 17219018618718218618518718018719320226 21220220376 0  0  0  \n",
            "0  0  0  0  2001972230  17718918418517818418318418018318920335 19620320384 0  0  0  \n",
            "0  0  0  0  2001972230  18518718518718018418218317818218320544 15920720185 0  0  0  \n",
            "0  0  0  0  1871982250  19418818418518018318318418118117720646 12921120088 0  0  0  \n",
            "0  0  0  6  1862002110  19918918418418518218318418518217520550 97 21619793 0  0  0  \n",
            "0  0  0  5  1852041840  20218818218218318318418218018217420263 59 22019694 0  0  0  \n",
            "0  0  0  5  1842061570  20418718718919219019019119018718320278 35 22219795 0  0  0  \n",
            "0  0  0  5  1832081270  19716615314914914614814915015115819190 8  22319599 0  0  0  \n",
            "0  0  0  6  1842081140  2041731611801761721731731741761622021150  2291991050  0  0  \n",
            "0  0  0  9  1782041150  12113511411711411411711811911711314763 0  2251961070  0  0  \n",
            "0  0  0  18 1802061310  0  0  0  0  0  0  0  0  0  0  0  0  0  0  2241971230  0  0  \n",
            "0  0  0  0  14115176 0  1  1  0  0  0  0  0  0  0  0  0  0  0  0  13316773 0  0  0  \n"
          ]
        }
      ]
    },
    {
      "cell_type": "markdown",
      "source": [
        "# **Q5: Please plot the image of the index 5 in the training dataset.**"
      ],
      "metadata": {
        "id": "yhW3dubZ0YK2"
      }
    },
    {
      "cell_type": "code",
      "source": [
        "# I'm writing this as a function since I'll need to do the same thing in a few questions\n",
        "def plotImage(index, setType):\n",
        "  plt.figure(figsize=(2, 2))\n",
        "  plt.imshow(setType[index], cmap='grey')\n",
        "  plt.axis(False)\n",
        "  plt.show()\n",
        "\n",
        "plotImage(5, train_images)"
      ],
      "metadata": {
        "colab": {
          "base_uri": "https://localhost:8080/",
          "height": 191
        },
        "id": "sSHX5M5q0gq-",
        "outputId": "4f41421c-4d00-4bad-a65e-8ccf568b9d26"
      },
      "execution_count": 67,
      "outputs": [
        {
          "output_type": "display_data",
          "data": {
            "text/plain": [
              "<Figure size 200x200 with 1 Axes>"
            ],
            "image/png": "[encoded data removed]"
          },
          "metadata": {}
        }
      ]
    },
    {
      "cell_type": "markdown",
      "source": [
        "# **Q6: What is the label for the index 5 in the train_label and looking up in the above list, what does it mean?**"
      ],
      "metadata": {
        "id": "9JR1PAxe4JfW"
      }
    },
    {
      "cell_type": "code",
      "source": [
        "print(\"Index 5 Label: \", train_labels[5])\n",
        "print(\"Label 2 = Pullover\")\n",
        "# According to our provided list, a label of '2' means the item is a 'Pullover'"
      ],
      "metadata": {
        "colab": {
          "base_uri": "https://localhost:8080/"
        },
        "id": "-CjdA5zk4Rqh",
        "outputId": "b27f2311-f530-4435-949d-711d3c46232b"
      },
      "execution_count": 63,
      "outputs": [
        {
          "output_type": "stream",
          "name": "stdout",
          "text": [
            "Index 5 Label:  2\n",
            "Label 2 = Pullover\n"
          ]
        }
      ]
    },
    {
      "cell_type": "markdown",
      "source": [
        "# **Q7: Please show the digital content of image index 500 in the testing dataset.**"
      ],
      "metadata": {
        "id": "IOHcL1m65lGO"
      }
    },
    {
      "cell_type": "code",
      "source": [
        "digitalContent(500, test_images)"
      ],
      "metadata": {
        "colab": {
          "base_uri": "https://localhost:8080/"
        },
        "id": "AmUoKhzb6G4u",
        "outputId": "dfdbb58f-6418-429c-cdae-9ad86e73a4b8"
      },
      "execution_count": 68,
      "outputs": [
        {
          "output_type": "stream",
          "name": "stdout",
          "text": [
            "0  0  0  0  0  0  0  0  0  0  10893 38 0  0  0  8  76 14034 0  0  0  1  1  0  0  0  \n",
            "0  0  0  0  0  0  0  30 92 69 19218314921417719422715420614379 46 0  0  0  0  0  0  \n",
            "0  0  0  0  0  0  59 12711685 63 1841281040  10 12613814559 10411886 0  0  0  0  0  \n",
            "0  0  0  0  0  3  99 92 81 81 54 67 22225520920617818472 69 97 97 11824 0  2  0  0  \n",
            "0  0  1  1  0  60 12113883 64 76 68 23 35 55 52 46 36 65 72 72 76 1021100  0  0  0  \n",
            "0  0  0  0  0  11289 52 89 72 67 69 81 73 60 71 64 55 52 73 77 88 10410810 0  1  0  \n",
            "0  0  0  0  21 11014313155 18112854 36 15818544 74 15015471 96 88 10513150 0  0  0  \n",
            "0  0  2  0  52 13990 99 77 18713423868 20312731 15816519173 95 83 86 91 85 0  0  0  \n",
            "0  0  0  0  97 10411913595 13715620915818567 91 19915021812378 10691 1291060  0  0  \n",
            "0  0  0  0  10997 12910980 15418315317817078 17822815621413511292 91 1011274  0  0  \n",
            "0  0  0  10 12510212014699 18923876 13911163 23817248 24991 79 79 14611011135 0  0  \n",
            "0  0  0  32 14778 15614355 16517564 14211462 15210768 21390 10815521174 14353 0  0  \n",
            "0  0  0  46 12710512424690 69 74 10111279 99 11281 96 18497 77 11217265 1191000  0  \n",
            "0  0  0  87 14310711221370 11623083 15414615022365 93 19612189 14619392 1081050  0  \n",
            "0  0  0  97 12512512415760 11925070 18015813417716310722582 85 16717887 1231140  0  \n",
            "0  0  0  10710213514211778 12322936 12112911916222311715488 79 18616468 11612922 0  \n",
            "0  0  14 11610713315412471 15619385 18192 12116719418511978 10113816310511810127 0  \n",
            "0  0  15 11710811718012976 11718920821110516118719022197 98 10793 11810412412839 0  \n",
            "0  0  15 11296 11416711510181 18117021615418119317622072 10793 10297 12012911150 0  \n",
            "0  0  23 12911012117880 85 10970 63 76 10892 60 68 65 10590 11691 10510210511040 0  \n",
            "0  0  38 11910214215897 10410012111910712112089 96 12710199 10795 13916398 10853 0  \n",
            "0  0  21 10297 14893 80 12492 97 99 10913112610910710497 10492 10676 16512412963 0  \n",
            "0  0  39 10611113072 10485 96 97 96 10412911688 96 99 10190 11610644 14712710642 0  \n",
            "0  0  45 13115883 51 12886 10110810011013712391 93 11410210810611733 12513710152 0  \n",
            "0  0  43 87 12379 58 11611081 10511912014012411512511090 11083 1408  99 15211769 0  \n",
            "0  0  49 12115551 42 11695 97 95 93 10814711783 90 89 10497 93 1310  67 15395 57 0  \n",
            "0  0  42 93 14319 49 11289 10110799 10414513597 10811296 96 99 1280  27 15292 62 0  \n",
            "0  0  58 91 14310 34 88 44 63 72 68 64 71 70 62 69 59 55 77 71 1120  20 13889 65 0  \n"
          ]
        }
      ]
    },
    {
      "cell_type": "markdown",
      "source": [
        "# **Q8: Please plot the image of the index 500 in the testing dataset.**"
      ],
      "metadata": {
        "id": "o3tGVa3M6js7"
      }
    },
    {
      "cell_type": "code",
      "source": [
        "plotImage(500, test_images)"
      ],
      "metadata": {
        "colab": {
          "base_uri": "https://localhost:8080/",
          "height": 191
        },
        "id": "EtFryNK_6jYQ",
        "outputId": "6426664f-e85d-4c4c-fdb3-9d7fa6f5ab21"
      },
      "execution_count": 69,
      "outputs": [
        {
          "output_type": "display_data",
          "data": {
            "text/plain": [
              "<Figure size 200x200 with 1 Axes>"
            ],
            "image/png": "[encoded data removed]"
          },
          "metadata": {}
        }
      ]
    },
    {
      "cell_type": "markdown",
      "source": [
        "# **Q9: What is the label for the index 500 in the test_label and looking up in the above list, what does it mean?**"
      ],
      "metadata": {
        "id": "Swku9Eom6zk4"
      }
    },
    {
      "cell_type": "code",
      "source": [
        "print(\"Index 500 Label: \", test_labels[500])\n",
        "print(\"Label 2 = Pullover\")\n",
        "# According to our provided list, a label of '2' means the item is a 'Pullover'"
      ],
      "metadata": {
        "colab": {
          "base_uri": "https://localhost:8080/"
        },
        "id": "B_ckfUp860zL",
        "outputId": "2c24da52-614c-4474-8cf7-1902d213d37c"
      },
      "execution_count": 70,
      "outputs": [
        {
          "output_type": "stream",
          "name": "stdout",
          "text": [
            "Index 500 Label:  2\n",
            "Label 2 = Pullover\n"
          ]
        }
      ]
    },
    {
      "cell_type": "markdown",
      "source": [
        "# **Q10: Please import models and layers from the keras library.**"
      ],
      "metadata": {
        "id": "Y9WDV0pK7H5x"
      }
    },
    {
      "cell_type": "code",
      "source": [
        "from keras import models, layers"
      ],
      "metadata": {
        "id": "-ydINUCC7GRs"
      },
      "execution_count": 71,
      "outputs": []
    },
    {
      "cell_type": "markdown",
      "source": [
        "# **Q11: Define a sequential model and call it myNetwork.**"
      ],
      "metadata": {
        "id": "7bKl7-157rgP"
      }
    },
    {
      "cell_type": "code",
      "source": [
        "myNetwork = tf.keras.Sequential()"
      ],
      "metadata": {
        "id": "PvgVoeoN7wYh"
      },
      "execution_count": 79,
      "outputs": []
    },
    {
      "cell_type": "markdown",
      "source": [
        "# **Q12: Reshape the images from 28x28 to one column with 784 neurons (flattening)**"
      ],
      "metadata": {
        "id": "Mnd3JsJm9hrG"
      }
    },
    {
      "cell_type": "code",
      "source": [
        "# 28*28 = 784\n",
        "myNetwork.add(layers.Flatten(input_shape=(28, 28)))"
      ],
      "metadata": {
        "id": "QVDSKUrpFutz"
      },
      "execution_count": 85,
      "outputs": []
    },
    {
      "cell_type": "markdown",
      "source": [
        "# **Q13: Also, please normalize the image by dividing the image by 255**"
      ],
      "metadata": {
        "id": "c78G-EOpHlJv"
      }
    },
    {
      "cell_type": "code",
      "source": [
        "myNetwork.add(layers.Rescaling(1./255))"
      ],
      "metadata": {
        "id": "1iIzaSeGHrW-"
      },
      "execution_count": 86,
      "outputs": []
    },
    {
      "cell_type": "markdown",
      "source": [
        "# **Q14: Add one hidden layer that has 512 neurons, using the ‘relu’ activation function.**"
      ],
      "metadata": {
        "id": "JrlMceKCJSpg"
      }
    },
    {
      "cell_type": "code",
      "source": [
        "myNetwork.add(layers.Dense(512, activation='relu'))"
      ],
      "metadata": {
        "id": "JLFcLUKsJnsw"
      },
      "execution_count": 87,
      "outputs": []
    },
    {
      "cell_type": "markdown",
      "source": [
        "# **Q15: Add another hidden layer that has 128 neurons, using the ‘relu’ activation function.**"
      ],
      "metadata": {
        "id": "jnMLId0JJ5wT"
      }
    },
    {
      "cell_type": "code",
      "source": [
        "myNetwork.add(layers.Dense(128, activation='relu'))"
      ],
      "metadata": {
        "id": "TiUOnJLDJ_K7"
      },
      "execution_count": 88,
      "outputs": []
    },
    {
      "cell_type": "markdown",
      "source": [
        "# **Q16: Add the last layer as a 10-neuron dense layer that uses the ‘softmax’ as the activation function. Why do we use softmax for the last layer? How does it work under the hood? Make sure to explain this in your video.**"
      ],
      "metadata": {
        "id": "oToa_eruKO4t"
      }
    },
    {
      "cell_type": "code",
      "source": [
        "myNetwork.add(layers.Dense(10, activation='softmax'))"
      ],
      "metadata": {
        "id": "FJh5T1gHKT5Q"
      },
      "execution_count": 89,
      "outputs": []
    },
    {
      "cell_type": "markdown",
      "source": [
        "# **Q17: Use the following two settings for the compiler and run them separately and see what the differences are.**"
      ],
      "metadata": {
        "id": "dqR8ZJ19KfVF"
      }
    },
    {
      "cell_type": "code",
      "source": [
        "# Option A:\n",
        "myNetwork.compile(optimizer=\"adam\",\n",
        "              loss=\"sparse_categorical_crossentropy\",\n",
        "              metrics=[\"accuracy\"])"
      ],
      "metadata": {
        "id": "D2VtsYOhLAia"
      },
      "execution_count": 92,
      "outputs": []
    },
    {
      "cell_type": "code",
      "source": [
        "# Option B:\n",
        "myNetwork.compile(optimizer=\"rmsprop\",\n",
        "              loss=\"categorical_crossentropy\",\n",
        "              metrics=[\"accuracy\"])"
      ],
      "metadata": {
        "id": "Bf4E0TU9LTTD"
      },
      "execution_count": 91,
      "outputs": []
    }
  ]
}