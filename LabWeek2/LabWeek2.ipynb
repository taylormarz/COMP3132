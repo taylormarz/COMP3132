{
  "cells": [
    {
      "cell_type": "markdown",
      "metadata": {
        "id": "0mAxgWloI7CK"
      },
      "source": [
        "# Logistic Regression as a Single Neuron Model"
      ]
    },
    {
      "cell_type": "markdown",
      "metadata": {
        "id": "16LGF3dq4mYD"
      },
      "source": [
        "## Imports"
      ]
    },
    {
      "cell_type": "code",
      "execution_count": 1,
      "metadata": {
        "id": "_r0MBq9GzGlj"
      },
      "outputs": [],
      "source": [
        "import numpy as np\n",
        "import h5py\n",
        "import requests\n",
        "import os\n",
        "import matplotlib.pyplot as plt"
      ]
    },
    {
      "cell_type": "markdown",
      "metadata": {
        "id": "UNOHCcMAWBa4"
      },
      "source": [
        "## Helper Functions (Just run this cell - no need to go through the code in helper functions)"
      ]
    },
    {
      "cell_type": "code",
      "execution_count": 2,
      "metadata": {
        "id": "HAgV4SZdzF0h"
      },
      "outputs": [],
      "source": [
        "def download_file(url, local_filename):\n",
        "    \"\"\"\n",
        "    Downloads a file from a URL and saves it locally.\n",
        "    \"\"\"\n",
        "    if not os.path.exists(local_filename):\n",
        "        print(f\"Downloading {local_filename}...\")\n",
        "        response = requests.get(url)\n",
        "        if response.status_code == 200:\n",
        "            with open(local_filename, 'wb') as f:\n",
        "                f.write(response.content)\n",
        "            print(f\"File downloaded: {local_filename}\")\n",
        "        else:\n",
        "            raise Exception(f\"Failed to download file from {url}. Status code: {response.status_code}\")\n",
        "    else:\n",
        "        print(f\"File already exists: {local_filename}\")\n",
        "\n",
        "def load_dataset():\n",
        "    # URLs of the .h5 files\n",
        "    train_url = 'https://github.com/PyDataGBC/PyML2025/raw/refs/heads/main/LabWeek2/dataset/train_catvnoncat.h5'\n",
        "    test_url = 'https://github.com/PyDataGBC/PyML2025/raw/refs/heads/main/LabWeek2/dataset/test_catvnoncat.h5'\n",
        "\n",
        "    # Local file paths\n",
        "    train_file = 'train_catvnoncat.h5'\n",
        "    test_file = 'test_catvnoncat.h5'\n",
        "\n",
        "    # Download the files if not already present\n",
        "    download_file(train_url, train_file)\n",
        "    download_file(test_url, test_file)\n",
        "\n",
        "    # Open the files using h5py\n",
        "    train_dataset = h5py.File(train_file, \"r\")\n",
        "    train_set_x_orig = np.array(train_dataset[\"train_set_x\"][:])  # Train set features\n",
        "    train_set_y_orig = np.array(train_dataset[\"train_set_y\"][:])  # Train set labels\n",
        "\n",
        "    test_dataset = h5py.File(test_file, \"r\")\n",
        "    test_set_x_orig = np.array(test_dataset[\"test_set_x\"][:])  # Test set features\n",
        "    test_set_y_orig = np.array(test_dataset[\"test_set_y\"][:])  # Test set labels\n",
        "\n",
        "    classes = np.array(test_dataset[\"list_classes\"][:])  # List of classes\n",
        "\n",
        "    # Reshape labels\n",
        "    train_set_y_orig = train_set_y_orig.reshape((1, train_set_y_orig.shape[0]))\n",
        "    test_set_y_orig = test_set_y_orig.reshape((1, test_set_y_orig.shape[0]))\n",
        "\n",
        "    return train_set_x_orig, train_set_y_orig, test_set_x_orig, test_set_y_orig, classes"
      ]
    },
    {
      "cell_type": "markdown",
      "metadata": {
        "id": "JhzB-_zD4sUH"
      },
      "source": [
        "## Importing Dataset"
      ]
    },
    {
      "cell_type": "code",
      "execution_count": 3,
      "metadata": {
        "colab": {
          "base_uri": "https://localhost:8080/"
        },
        "id": "VDC_aGp_zLzE",
        "outputId": "e2d66263-8cee-4e7c-95e5-396449b96c11"
      },
      "outputs": [
        {
          "output_type": "stream",
          "name": "stdout",
          "text": [
            "Downloading train_catvnoncat.h5...\n",
            "File downloaded: train_catvnoncat.h5\n",
            "Downloading test_catvnoncat.h5...\n",
            "File downloaded: test_catvnoncat.h5\n"
          ]
        }
      ],
      "source": [
        "train_set_x_orig, train_set_y, test_set_x_orig, test_set_y, classes = load_dataset()"
      ]
    },
    {
      "cell_type": "markdown",
      "metadata": {
        "id": "43XfhBql4xHz"
      },
      "source": [
        "## Data Visualization"
      ]
    },
    {
      "cell_type": "code",
      "execution_count": 5,
      "metadata": {
        "colab": {
          "base_uri": "https://localhost:8080/",
          "height": 449
        },
        "id": "3BTUPBQvzPpW",
        "outputId": "0fc09639-28fd-4f19-e6fd-1aff4a1e4fda"
      },
      "outputs": [
        {
          "output_type": "stream",
          "name": "stdout",
          "text": [
            "label:  [1]\n"
          ]
        },
        {
          "output_type": "display_data",
          "data": {
            "text/plain": [
              "<Figure size 640x480 with 1 Axes>"
            ],
            "image/png": "[encoded data removed]"
          },
          "metadata": {}
        }
      ],
      "source": [
        "# Example of a picture\n",
        "index = 25   # select a number between 0 and 208\n",
        "#index = np.random.randint(0, 200)  # you can also generate a random number and see the different image each time\n",
        "plt.imshow(train_set_x_orig[index])\n",
        "print(\"label: \", train_set_y[:, index])"
      ]
    },
    {
      "cell_type": "markdown",
      "metadata": {
        "id": "lMMLsPL5jgSF"
      },
      "source": [
        "### **Exercise 1:** Take a look at five different images in train/test set. Try to see both cat and non-cat samples."
      ]
    },
    {
      "cell_type": "code",
      "execution_count": 6,
      "metadata": {
        "id": "hqGL_XaXj2OP",
        "colab": {
          "base_uri": "https://localhost:8080/",
          "height": 1000
        },
        "outputId": "7ab946a0-e7f7-4e27-a122-0fd6abd0b074"
      },
      "outputs": [
        {
          "output_type": "stream",
          "name": "stdout",
          "text": [
            "Target:  [1]\n",
            "Target:  [0]\n",
            "Target:  [0]\n",
            "Target:  [1]\n",
            "Target:  [0]\n"
          ]
        },
        {
          "output_type": "display_data",
          "data": {
            "text/plain": [
              "<Figure size 640x480 with 1 Axes>"
            ],
            "image/png": "[encoded data removed]"
          },
          "metadata": {}
        },
        {
          "output_type": "display_data",
          "data": {
            "text/plain": [
              "<Figure size 640x480 with 1 Axes>"
            ],
            "image/png": "[encoded data removed]"
          },
          "metadata": {}
        },
        {
          "output_type": "display_data",
          "data": {
            "text/plain": [
              "<Figure size 640x480 with 1 Axes>"
            ],
            "image/png": "[encoded data removed]"
          },
          "metadata": {}
        },
        {
          "output_type": "display_data",
          "data": {
            "text/plain": [
              "<Figure size 640x480 with 1 Axes>"
            ],
            "image/png": "[encoded data removed]"
          },
          "metadata": {}
        },
        {
          "output_type": "display_data",
          "data": {
            "text/plain": [
              "<Figure size 640x480 with 1 Axes>"
            ],
            "image/png": "[encoded data removed]"
          },
          "metadata": {}
        }
      ],
      "source": [
        "for i in range(5):\n",
        "  plt.figure() # Initialize an empty figure\n",
        "  index = np.random.randint(0, 50)\n",
        "  plt.imshow(test_set_x_orig[index])\n",
        "  print(\"Target: \", test_set_y[:, index])"
      ]
    },
    {
      "cell_type": "markdown",
      "metadata": {
        "id": "3gL2KxE7r0h7"
      },
      "source": [
        "### **Exercise 2:** Print `train_set_y` array to see the labels of the data. What percentage of the pictures in `train set` contain cats?"
      ]
    },
    {
      "cell_type": "code",
      "execution_count": 7,
      "metadata": {
        "id": "phnJSNEDsIsc",
        "colab": {
          "base_uri": "https://localhost:8080/"
        },
        "outputId": "57ff52fa-6bf7-447d-ed49-2ec656c54d7d"
      },
      "outputs": [
        {
          "output_type": "stream",
          "name": "stdout",
          "text": [
            "[[0 0 1 0 0 0 0 1 0 0 0 1 0 1 1 0 0 0 0 1 0 0 0 0 1 1 0 1 0 1 0 0 0 0 0 0\n",
            "  0 0 1 0 0 1 1 0 0 0 0 1 0 0 1 0 0 0 1 0 1 1 0 1 1 1 0 0 0 0 0 0 1 0 0 1\n",
            "  0 0 0 0 0 0 0 0 0 0 0 1 1 0 0 0 1 0 0 0 1 1 1 0 0 1 0 0 0 0 1 0 1 0 1 1\n",
            "  1 1 1 1 0 0 0 0 0 1 0 0 0 1 0 0 1 0 1 0 1 1 0 0 0 1 1 1 1 1 0 0 0 0 1 0\n",
            "  1 1 1 0 1 1 0 0 0 1 0 0 1 0 0 0 0 0 1 0 1 0 1 0 0 1 1 1 0 0 1 1 0 1 0 1\n",
            "  0 0 0 0 0 1 0 0 1 0 0 0 1 0 0 0 0 1 0 0 1 0 0 0 0 0 0 0 0]]\n",
            "(1, 209)\n",
            "209\n",
            "209\n",
            "34.44976076555024 %\n"
          ]
        }
      ],
      "source": [
        "print(train_set_y[:])\n",
        "print(train_set_y.shape)\n",
        "print(train_set_y.shape[1])\n",
        "print(train_set_y.size) # Why is shape[1] = size? Shape gives you the dimensions\n",
        "percent_cats = np.sum(train_set_y[:])/train_set_y.size # Could also be achieved with np.mean\n",
        "print(percent_cats * 100, \"%\")"
      ]
    },
    {
      "cell_type": "markdown",
      "metadata": {
        "id": "ZzIKs9d546Bx"
      },
      "source": [
        "## Data Pre-processing"
      ]
    },
    {
      "cell_type": "markdown",
      "metadata": {
        "id": "pOpUDYyXMXI0"
      },
      "source": [
        "### Brief Theory: Numerical Representation of Images"
      ]
    },
    {
      "cell_type": "markdown",
      "metadata": {
        "id": "1Ybd7jVO7d59"
      },
      "source": [
        "![preprocessing](https://raw.githubusercontent.com/PyDataGBC/PyML2025/refs/heads/main/LabWeek2/assets/imvectorkiank.png)"
      ]
    },
    {
      "cell_type": "markdown",
      "metadata": {
        "id": "ww93xSbYKaOk"
      },
      "source": [
        "### **Example 1:** Numerical Representation of an Image"
      ]
    },
    {
      "cell_type": "markdown",
      "metadata": {
        "id": "9X8lR04-sOcq"
      },
      "source": [
        "![](https://raw.githubusercontent.com/PyDataGBC/PyML2025/refs/heads/main/LabWeek2/assets/imtovec_example.webp)"
      ]
    },
    {
      "cell_type": "markdown",
      "metadata": {
        "id": "AZ43hL-XN3hZ"
      },
      "source": [
        "#### Step 1: Numerical representation of each channel (`MATRIX` format)"
      ]
    },
    {
      "cell_type": "code",
      "execution_count": 8,
      "metadata": {
        "colab": {
          "base_uri": "https://localhost:8080/"
        },
        "id": "FCCiORNIN3hZ",
        "outputId": "2f0d038e-b641-46cd-d2d0-2bab39e2eb51"
      },
      "outputs": [
        {
          "output_type": "stream",
          "name": "stdout",
          "text": [
            "Red Channel\n",
            "(3, 3)\n",
            "[[255 123 135]\n",
            " [ 44  12  15]\n",
            " [ 56  87  90]]\n",
            "Green Channel\n",
            "(3, 3)\n",
            "[[255 133 175]\n",
            " [ 24 123 169]\n",
            " [ 98  66  77]]\n",
            "Bue Channel\n",
            "(3, 3)\n",
            "[[ 66  54  88]\n",
            " [ 55  98  54]\n",
            " [ 87 142  89]]\n"
          ]
        }
      ],
      "source": [
        "red_channel = np.array([[255, 123, 135], [44, 12, 15], [56, 87, 90]]) # 2d array: Matrix\n",
        "green_channel = np.array([[255, 133, 175], [24, 123, 169], [98, 66, 77]])\n",
        "blue_channel = np.array([[66, 54, 88], [55, 98, 54], [87, 142, 89]])\n",
        "\n",
        "print(\"Red Channel\")\n",
        "print(red_channel.shape)\n",
        "print(red_channel)\n",
        "\n",
        "print(\"Green Channel\")\n",
        "print(green_channel.shape)\n",
        "print(green_channel)\n",
        "\n",
        "print(\"Bue Channel\")\n",
        "print(blue_channel.shape)\n",
        "print(blue_channel)"
      ]
    },
    {
      "cell_type": "markdown",
      "metadata": {
        "id": "B776dcloN3hZ"
      },
      "source": [
        "#### Step 2: Putting the channels together in the form of a `TENSOR`"
      ]
    },
    {
      "cell_type": "code",
      "execution_count": 9,
      "metadata": {
        "colab": {
          "base_uri": "https://localhost:8080/"
        },
        "id": "9Uid6EOPN3hZ",
        "outputId": "5ef69cff-c731-4bb9-8a72-63e18380abf8"
      },
      "outputs": [
        {
          "output_type": "stream",
          "name": "stdout",
          "text": [
            "channel, height, width\n",
            "(3, 3, 3)\n",
            "[[[255 123 135]\n",
            "  [ 44  12  15]\n",
            "  [ 56  87  90]]\n",
            "\n",
            " [[255 133 175]\n",
            "  [ 24 123 169]\n",
            "  [ 98  66  77]]\n",
            "\n",
            " [[ 66  54  88]\n",
            "  [ 55  98  54]\n",
            "  [ 87 142  89]]]\n"
          ]
        }
      ],
      "source": [
        "print(\"channel, height, width\")\n",
        "airplane_image = np.array([red_channel, green_channel, blue_channel])  # 3d array: Tensor\n",
        "print(airplane_image.shape)\n",
        "print(airplane_image)"
      ]
    },
    {
      "cell_type": "markdown",
      "metadata": {
        "id": "3EMYzcf9N3hZ"
      },
      "source": [
        "#### Step 3: Flatten the `tensor` into a `VECTOR`"
      ]
    },
    {
      "cell_type": "code",
      "execution_count": 10,
      "metadata": {
        "colab": {
          "base_uri": "https://localhost:8080/"
        },
        "id": "a99vH96il50J",
        "outputId": "cc698387-8a11-4b93-f440-6dc152605e3b"
      },
      "outputs": [
        {
          "output_type": "stream",
          "name": "stdout",
          "text": [
            "(27,)\n",
            "[255 123 135  44  12  15  56  87  90 255 133 175  24 123 169  98  66  77\n",
            "  66  54  88  55  98  54  87 142  89]\n"
          ]
        }
      ],
      "source": [
        "airplane_flatten = airplane_image.flatten()   # 1d array: Vector\n",
        "print(airplane_flatten.shape)\n",
        "print(airplane_flatten)"
      ]
    },
    {
      "cell_type": "markdown",
      "metadata": {
        "id": "PNH054_3icPa"
      },
      "source": [
        "### **Exercise 3:** Take one sample form train set again and check the shape of it. Try to interpret the numbers in the `shape`.\n",
        "\n",
        "**Notes:**\n",
        "- The images are 64x64 `pixels`.\n",
        "- There are 3 RGB `channels`."
      ]
    },
    {
      "cell_type": "code",
      "execution_count": 13,
      "metadata": {
        "id": "NXpWZWGti3FC",
        "colab": {
          "base_uri": "https://localhost:8080/"
        },
        "outputId": "4a32834f-c8fe-4bb9-a5cb-535621e62436"
      },
      "outputs": [
        {
          "output_type": "stream",
          "name": "stdout",
          "text": [
            "(64, 64, 3)\n",
            "3\n",
            "(12288,)\n"
          ]
        }
      ],
      "source": [
        "sample_index = 25 # Random cat\n",
        "sample_image = train_set_x_orig[sample_index]\n",
        "\n",
        "# Check the num dimensions of sample image before flattening\n",
        "print(sample_image.shape) # Size of each dimension\n",
        "print(sample_image.ndim) # Number of dimensions\n",
        "# print(sample_image)\n",
        "\n",
        "# Flatten and recheck the num dimenions\n",
        "flattened_sample_image = sample_image.flatten()\n",
        "print(flattened_sample_image.shape)\n",
        "# print(flattened_sample_image)"
      ]
    },
    {
      "cell_type": "markdown",
      "metadata": {
        "id": "fqzf6tC3N3ha"
      },
      "source": [
        "### **Exercise 4:** Fallaten the this sample image? what is the size of the flattened image? why this number?"
      ]
    },
    {
      "cell_type": "code",
      "execution_count": 16,
      "metadata": {
        "id": "0rEUfERzN3ha"
      },
      "outputs": [],
      "source": [
        "# How did we get 12288 as the number of all data points?\n",
        "# By Multiplying all dimensions, 64 * 64 * 3 = 12288"
      ]
    },
    {
      "cell_type": "markdown",
      "metadata": {
        "id": "gJNlOz_Dnvi3"
      },
      "source": [
        "### **Data Preprocessing:** Flattening the entrie Train and Test Datasets\n",
        "\n",
        "**Note:** We're going to talk about the details of the following code in next sessions. For now just pay attentin to the output shapes of data."
      ]
    },
    {
      "cell_type": "code",
      "execution_count": 19,
      "metadata": {
        "colab": {
          "base_uri": "https://localhost:8080/"
        },
        "id": "Vlg5rBn4nOgf",
        "outputId": "e242be7c-38d1-486d-a0cb-0ff1ce3d8d89"
      },
      "outputs": [
        {
          "output_type": "stream",
          "name": "stdout",
          "text": [
            "Train set shape:  (209, 12288)\n",
            "Test set shape:  (50, 12288)\n",
            "Train label shape:  (209,)\n",
            "Test label shape:  (50,)\n"
          ]
        }
      ],
      "source": [
        "X_train = train_set_x_orig.reshape(train_set_x_orig.shape[0], -1)\n",
        "print(\"Train set shape: \", X_train.shape)\n",
        "\n",
        "X_test = test_set_x_orig.reshape(test_set_x_orig.shape[0], -1)\n",
        "print(\"Test set shape: \", X_test.shape)\n",
        "\n",
        "y_train = train_set_y[0]\n",
        "print(\"Train label shape: \", y_train.shape)\n",
        "\n",
        "y_test = test_set_y[0]\n",
        "print(\"Test label shape: \", y_test.shape)\n",
        "\n"
      ]
    },
    {
      "cell_type": "markdown",
      "metadata": {
        "id": "ut-s4-dhN3ha"
      },
      "source": [
        "**Important Notes:**\n",
        "- We have 209 samples in the train set, and\n",
        "- 50 samples in the test set.\n",
        "- each sample has 64x64x3=12288 `features`. So each pixel can be considered as one feature.\n",
        "- remember that we had `4` features in `IRIS` dataset and now we have more than `10,000` features."
      ]
    },
    {
      "cell_type": "markdown",
      "metadata": {
        "id": "8hTAntEGmGH8"
      },
      "source": [
        "## Implementing Logistic Regression\n",
        "\n",
        "This is what happens under the hood when you use the `LogisticRegression` classifier in scikit-learn."
      ]
    },
    {
      "cell_type": "markdown",
      "metadata": {
        "id": "iqZ30WFX9F6e"
      },
      "source": [
        "![](https://raw.githubusercontent.com/PyDataGBC/PyML2025/refs/heads/main/LabWeek2/assets/LogReg_kiank.png)"
      ]
    },
    {
      "cell_type": "markdown",
      "metadata": {
        "id": "rTYuzeUDN3ha"
      },
      "source": [
        "### **Example 2:** What is the label in the following hypothetical input?\n",
        "\n",
        "![](https://raw.githubusercontent.com/PyDataGBC/PyML2025/refs/heads/main/LabWeek2/assets/toyexample.png)"
      ]
    },
    {
      "cell_type": "code",
      "execution_count": null,
      "metadata": {
        "id": "WPCRMURiN3hb"
      },
      "outputs": [],
      "source": [
        "#your calculation here"
      ]
    },
    {
      "cell_type": "markdown",
      "metadata": {
        "id": "Gn0UooRwpzRk"
      },
      "source": [
        "### **Exercise 6:** Train a `LogisticRegression` classifier to run a binary classification on the flattened cat pictures."
      ]
    },
    {
      "cell_type": "code",
      "execution_count": 14,
      "metadata": {
        "id": "Lcc0357e9IOH"
      },
      "outputs": [],
      "source": [
        "from sklearn.linear_model import LogisticRegression\n",
        "from sklearn.metrics import accuracy_score"
      ]
    },
    {
      "cell_type": "code",
      "execution_count": 21,
      "metadata": {
        "id": "mF7xJBuzq6P2",
        "colab": {
          "base_uri": "https://localhost:8080/",
          "height": 80
        },
        "outputId": "ae1190a9-6327-4530-b5b1-d649c312bf3c"
      },
      "outputs": [
        {
          "output_type": "execute_result",
          "data": {
            "text/plain": [
              "LogisticRegression()"
            ],
            "text/html": [
              "<style>#sk-container-id-1 {\n",
              "  /* Definition of color scheme common for light and dark mode */\n",
              "  --sklearn-color-text: #000;\n",
              "  --sklearn-color-text-muted: #666;\n",
              "  --sklearn-color-line: gray;\n",
              "  /* Definition of color scheme for unfitted estimators */\n",
              "  --sklearn-color-unfitted-level-0: #fff5e6;\n",
              "  --sklearn-color-unfitted-level-1: #f6e4d2;\n",
              "  --sklearn-color-unfitted-level-2: #ffe0b3;\n",
              "  --sklearn-color-unfitted-level-3: chocolate;\n",
              "  /* Definition of color scheme for fitted estimators */\n",
              "  --sklearn-color-fitted-level-0: #f0f8ff;\n",
              "  --sklearn-color-fitted-level-1: #d4ebff;\n",
              "  --sklearn-color-fitted-level-2: #b3dbfd;\n",
              "  --sklearn-color-fitted-level-3: cornflowerblue;\n",
              "\n",
              "  /* Specific color for light theme */\n",
              "  --sklearn-color-text-on-default-background: var(--sg-text-color, var(--theme-code-foreground, var(--jp-content-font-color1, black)));\n",
              "  --sklearn-color-background: var(--sg-background-color, var(--theme-background, var(--jp-layout-color0, white)));\n",
              "  --sklearn-color-border-box: var(--sg-text-color, var(--theme-code-foreground, var(--jp-content-font-color1, black)));\n",
              "  --sklearn-color-icon: #696969;\n",
              "\n",
              "  @media (prefers-color-scheme: dark) {\n",
              "    /* Redefinition of color scheme for dark theme */\n",
              "    --sklearn-color-text-on-default-background: var(--sg-text-color, var(--theme-code-foreground, var(--jp-content-font-color1, white)));\n",
              "    --sklearn-color-background: var(--sg-background-color, var(--theme-background, var(--jp-layout-color0, #111)));\n",
              "    --sklearn-color-border-box: var(--sg-text-color, var(--theme-code-foreground, var(--jp-content-font-color1, white)));\n",
              "    --sklearn-color-icon: #878787;\n",
              "  }\n",
              "}\n",
              "\n",
              "#sk-container-id-1 {\n",
              "  color: var(--sklearn-color-text);\n",
              "}\n",
              "\n",
              "#sk-container-id-1 pre {\n",
              "  padding: 0;\n",
              "}\n",
              "\n",
              "#sk-container-id-1 input.sk-hidden--visually {\n",
              "  border: 0;\n",
              "  clip: rect(1px 1px 1px 1px);\n",
              "  clip: rect(1px, 1px, 1px, 1px);\n",
              "  height: 1px;\n",
              "  margin: -1px;\n",
              "  overflow: hidden;\n",
              "  padding: 0;\n",
              "  position: absolute;\n",
              "  width: 1px;\n",
              "}\n",
              "\n",
              "#sk-container-id-1 div.sk-dashed-wrapped {\n",
              "  border: 1px dashed var(--sklearn-color-line);\n",
              "  margin: 0 0.4em 0.5em 0.4em;\n",
              "  box-sizing: border-box;\n",
              "  padding-bottom: 0.4em;\n",
              "  background-color: var(--sklearn-color-background);\n",
              "}\n",
              "\n",
              "#sk-container-id-1 div.sk-container {\n",
              "  /* jupyter's `normalize.less` sets `[hidden] { display: none; }`\n",
              "     but bootstrap.min.css set `[hidden] { display: none !important; }`\n",
              "     so we also need the `!important` here to be able to override the\n",
              "     default hidden behavior on the sphinx rendered scikit-learn.org.\n",
              "     See: https://github.com/scikit-learn/scikit-learn/issues/21755 */\n",
              "  display: inline-block !important;\n",
              "  position: relative;\n",
              "}\n",
              "\n",
              "#sk-container-id-1 div.sk-text-repr-fallback {\n",
              "  display: none;\n",
              "}\n",
              "\n",
              "div.sk-parallel-item,\n",
              "div.sk-serial,\n",
              "div.sk-item {\n",
              "  /* draw centered vertical line to link estimators */\n",
              "  background-image: linear-gradient(var(--sklearn-color-text-on-default-background), var(--sklearn-color-text-on-default-background));\n",
              "  background-size: 2px 100%;\n",
              "  background-repeat: no-repeat;\n",
              "  background-position: center center;\n",
              "}\n",
              "\n",
              "/* Parallel-specific style estimator block */\n",
              "\n",
              "#sk-container-id-1 div.sk-parallel-item::after {\n",
              "  content: \"\";\n",
              "  width: 100%;\n",
              "  border-bottom: 2px solid var(--sklearn-color-text-on-default-background);\n",
              "  flex-grow: 1;\n",
              "}\n",
              "\n",
              "#sk-container-id-1 div.sk-parallel {\n",
              "  display: flex;\n",
              "  align-items: stretch;\n",
              "  justify-content: center;\n",
              "  background-color: var(--sklearn-color-background);\n",
              "  position: relative;\n",
              "}\n",
              "\n",
              "#sk-container-id-1 div.sk-parallel-item {\n",
              "  display: flex;\n",
              "  flex-direction: column;\n",
              "}\n",
              "\n",
              "#sk-container-id-1 div.sk-parallel-item:first-child::after {\n",
              "  align-self: flex-end;\n",
              "  width: 50%;\n",
              "}\n",
              "\n",
              "#sk-container-id-1 div.sk-parallel-item:last-child::after {\n",
              "  align-self: flex-start;\n",
              "  width: 50%;\n",
              "}\n",
              "\n",
              "#sk-container-id-1 div.sk-parallel-item:only-child::after {\n",
              "  width: 0;\n",
              "}\n",
              "\n",
              "/* Serial-specific style estimator block */\n",
              "\n",
              "#sk-container-id-1 div.sk-serial {\n",
              "  display: flex;\n",
              "  flex-direction: column;\n",
              "  align-items: center;\n",
              "  background-color: var(--sklearn-color-background);\n",
              "  padding-right: 1em;\n",
              "  padding-left: 1em;\n",
              "}\n",
              "\n",
              "\n",
              "/* Toggleable style: style used for estimator/Pipeline/ColumnTransformer box that is\n",
              "clickable and can be expanded/collapsed.\n",
              "- Pipeline and ColumnTransformer use this feature and define the default style\n",
              "- Estimators will overwrite some part of the style using the `sk-estimator` class\n",
              "*/\n",
              "\n",
              "/* Pipeline and ColumnTransformer style (default) */\n",
              "\n",
              "#sk-container-id-1 div.sk-toggleable {\n",
              "  /* Default theme specific background. It is overwritten whether we have a\n",
              "  specific estimator or a Pipeline/ColumnTransformer */\n",
              "  background-color: var(--sklearn-color-background);\n",
              "}\n",
              "\n",
              "/* Toggleable label */\n",
              "#sk-container-id-1 label.sk-toggleable__label {\n",
              "  cursor: pointer;\n",
              "  display: flex;\n",
              "  width: 100%;\n",
              "  margin-bottom: 0;\n",
              "  padding: 0.5em;\n",
              "  box-sizing: border-box;\n",
              "  text-align: center;\n",
              "  align-items: start;\n",
              "  justify-content: space-between;\n",
              "  gap: 0.5em;\n",
              "}\n",
              "\n",
              "#sk-container-id-1 label.sk-toggleable__label .caption {\n",
              "  font-size: 0.6rem;\n",
              "  font-weight: lighter;\n",
              "  color: var(--sklearn-color-text-muted);\n",
              "}\n",
              "\n",
              "#sk-container-id-1 label.sk-toggleable__label-arrow:before {\n",
              "  /* Arrow on the left of the label */\n",
              "  content: \"▸\";\n",
              "  float: left;\n",
              "  margin-right: 0.25em;\n",
              "  color: var(--sklearn-color-icon);\n",
              "}\n",
              "\n",
              "#sk-container-id-1 label.sk-toggleable__label-arrow:hover:before {\n",
              "  color: var(--sklearn-color-text);\n",
              "}\n",
              "\n",
              "/* Toggleable content - dropdown */\n",
              "\n",
              "#sk-container-id-1 div.sk-toggleable__content {\n",
              "  max-height: 0;\n",
              "  max-width: 0;\n",
              "  overflow: hidden;\n",
              "  text-align: left;\n",
              "  /* unfitted */\n",
              "  background-color: var(--sklearn-color-unfitted-level-0);\n",
              "}\n",
              "\n",
              "#sk-container-id-1 div.sk-toggleable__content.fitted {\n",
              "  /* fitted */\n",
              "  background-color: var(--sklearn-color-fitted-level-0);\n",
              "}\n",
              "\n",
              "#sk-container-id-1 div.sk-toggleable__content pre {\n",
              "  margin: 0.2em;\n",
              "  border-radius: 0.25em;\n",
              "  color: var(--sklearn-color-text);\n",
              "  /* unfitted */\n",
              "  background-color: var(--sklearn-color-unfitted-level-0);\n",
              "}\n",
              "\n",
              "#sk-container-id-1 div.sk-toggleable__content.fitted pre {\n",
              "  /* unfitted */\n",
              "  background-color: var(--sklearn-color-fitted-level-0);\n",
              "}\n",
              "\n",
              "#sk-container-id-1 input.sk-toggleable__control:checked~div.sk-toggleable__content {\n",
              "  /* Expand drop-down */\n",
              "  max-height: 200px;\n",
              "  max-width: 100%;\n",
              "  overflow: auto;\n",
              "}\n",
              "\n",
              "#sk-container-id-1 input.sk-toggleable__control:checked~label.sk-toggleable__label-arrow:before {\n",
              "  content: \"▾\";\n",
              "}\n",
              "\n",
              "/* Pipeline/ColumnTransformer-specific style */\n",
              "\n",
              "#sk-container-id-1 div.sk-label input.sk-toggleable__control:checked~label.sk-toggleable__label {\n",
              "  color: var(--sklearn-color-text);\n",
              "  background-color: var(--sklearn-color-unfitted-level-2);\n",
              "}\n",
              "\n",
              "#sk-container-id-1 div.sk-label.fitted input.sk-toggleable__control:checked~label.sk-toggleable__label {\n",
              "  background-color: var(--sklearn-color-fitted-level-2);\n",
              "}\n",
              "\n",
              "/* Estimator-specific style */\n",
              "\n",
              "/* Colorize estimator box */\n",
              "#sk-container-id-1 div.sk-estimator input.sk-toggleable__control:checked~label.sk-toggleable__label {\n",
              "  /* unfitted */\n",
              "  background-color: var(--sklearn-color-unfitted-level-2);\n",
              "}\n",
              "\n",
              "#sk-container-id-1 div.sk-estimator.fitted input.sk-toggleable__control:checked~label.sk-toggleable__label {\n",
              "  /* fitted */\n",
              "  background-color: var(--sklearn-color-fitted-level-2);\n",
              "}\n",
              "\n",
              "#sk-container-id-1 div.sk-label label.sk-toggleable__label,\n",
              "#sk-container-id-1 div.sk-label label {\n",
              "  /* The background is the default theme color */\n",
              "  color: var(--sklearn-color-text-on-default-background);\n",
              "}\n",
              "\n",
              "/* On hover, darken the color of the background */\n",
              "#sk-container-id-1 div.sk-label:hover label.sk-toggleable__label {\n",
              "  color: var(--sklearn-color-text);\n",
              "  background-color: var(--sklearn-color-unfitted-level-2);\n",
              "}\n",
              "\n",
              "/* Label box, darken color on hover, fitted */\n",
              "#sk-container-id-1 div.sk-label.fitted:hover label.sk-toggleable__label.fitted {\n",
              "  color: var(--sklearn-color-text);\n",
              "  background-color: var(--sklearn-color-fitted-level-2);\n",
              "}\n",
              "\n",
              "/* Estimator label */\n",
              "\n",
              "#sk-container-id-1 div.sk-label label {\n",
              "  font-family: monospace;\n",
              "  font-weight: bold;\n",
              "  display: inline-block;\n",
              "  line-height: 1.2em;\n",
              "}\n",
              "\n",
              "#sk-container-id-1 div.sk-label-container {\n",
              "  text-align: center;\n",
              "}\n",
              "\n",
              "/* Estimator-specific */\n",
              "#sk-container-id-1 div.sk-estimator {\n",
              "  font-family: monospace;\n",
              "  border: 1px dotted var(--sklearn-color-border-box);\n",
              "  border-radius: 0.25em;\n",
              "  box-sizing: border-box;\n",
              "  margin-bottom: 0.5em;\n",
              "  /* unfitted */\n",
              "  background-color: var(--sklearn-color-unfitted-level-0);\n",
              "}\n",
              "\n",
              "#sk-container-id-1 div.sk-estimator.fitted {\n",
              "  /* fitted */\n",
              "  background-color: var(--sklearn-color-fitted-level-0);\n",
              "}\n",
              "\n",
              "/* on hover */\n",
              "#sk-container-id-1 div.sk-estimator:hover {\n",
              "  /* unfitted */\n",
              "  background-color: var(--sklearn-color-unfitted-level-2);\n",
              "}\n",
              "\n",
              "#sk-container-id-1 div.sk-estimator.fitted:hover {\n",
              "  /* fitted */\n",
              "  background-color: var(--sklearn-color-fitted-level-2);\n",
              "}\n",
              "\n",
              "/* Specification for estimator info (e.g. \"i\" and \"?\") */\n",
              "\n",
              "/* Common style for \"i\" and \"?\" */\n",
              "\n",
              ".sk-estimator-doc-link,\n",
              "a:link.sk-estimator-doc-link,\n",
              "a:visited.sk-estimator-doc-link {\n",
              "  float: right;\n",
              "  font-size: smaller;\n",
              "  line-height: 1em;\n",
              "  font-family: monospace;\n",
              "  background-color: var(--sklearn-color-background);\n",
              "  border-radius: 1em;\n",
              "  height: 1em;\n",
              "  width: 1em;\n",
              "  text-decoration: none !important;\n",
              "  margin-left: 0.5em;\n",
              "  text-align: center;\n",
              "  /* unfitted */\n",
              "  border: var(--sklearn-color-unfitted-level-1) 1pt solid;\n",
              "  color: var(--sklearn-color-unfitted-level-1);\n",
              "}\n",
              "\n",
              ".sk-estimator-doc-link.fitted,\n",
              "a:link.sk-estimator-doc-link.fitted,\n",
              "a:visited.sk-estimator-doc-link.fitted {\n",
              "  /* fitted */\n",
              "  border: var(--sklearn-color-fitted-level-1) 1pt solid;\n",
              "  color: var(--sklearn-color-fitted-level-1);\n",
              "}\n",
              "\n",
              "/* On hover */\n",
              "div.sk-estimator:hover .sk-estimator-doc-link:hover,\n",
              ".sk-estimator-doc-link:hover,\n",
              "div.sk-label-container:hover .sk-estimator-doc-link:hover,\n",
              ".sk-estimator-doc-link:hover {\n",
              "  /* unfitted */\n",
              "  background-color: var(--sklearn-color-unfitted-level-3);\n",
              "  color: var(--sklearn-color-background);\n",
              "  text-decoration: none;\n",
              "}\n",
              "\n",
              "div.sk-estimator.fitted:hover .sk-estimator-doc-link.fitted:hover,\n",
              ".sk-estimator-doc-link.fitted:hover,\n",
              "div.sk-label-container:hover .sk-estimator-doc-link.fitted:hover,\n",
              ".sk-estimator-doc-link.fitted:hover {\n",
              "  /* fitted */\n",
              "  background-color: var(--sklearn-color-fitted-level-3);\n",
              "  color: var(--sklearn-color-background);\n",
              "  text-decoration: none;\n",
              "}\n",
              "\n",
              "/* Span, style for the box shown on hovering the info icon */\n",
              ".sk-estimator-doc-link span {\n",
              "  display: none;\n",
              "  z-index: 9999;\n",
              "  position: relative;\n",
              "  font-weight: normal;\n",
              "  right: .2ex;\n",
              "  padding: .5ex;\n",
              "  margin: .5ex;\n",
              "  width: min-content;\n",
              "  min-width: 20ex;\n",
              "  max-width: 50ex;\n",
              "  color: var(--sklearn-color-text);\n",
              "  box-shadow: 2pt 2pt 4pt #999;\n",
              "  /* unfitted */\n",
              "  background: var(--sklearn-color-unfitted-level-0);\n",
              "  border: .5pt solid var(--sklearn-color-unfitted-level-3);\n",
              "}\n",
              "\n",
              ".sk-estimator-doc-link.fitted span {\n",
              "  /* fitted */\n",
              "  background: var(--sklearn-color-fitted-level-0);\n",
              "  border: var(--sklearn-color-fitted-level-3);\n",
              "}\n",
              "\n",
              ".sk-estimator-doc-link:hover span {\n",
              "  display: block;\n",
              "}\n",
              "\n",
              "/* \"?\"-specific style due to the `<a>` HTML tag */\n",
              "\n",
              "#sk-container-id-1 a.estimator_doc_link {\n",
              "  float: right;\n",
              "  font-size: 1rem;\n",
              "  line-height: 1em;\n",
              "  font-family: monospace;\n",
              "  background-color: var(--sklearn-color-background);\n",
              "  border-radius: 1rem;\n",
              "  height: 1rem;\n",
              "  width: 1rem;\n",
              "  text-decoration: none;\n",
              "  /* unfitted */\n",
              "  color: var(--sklearn-color-unfitted-level-1);\n",
              "  border: var(--sklearn-color-unfitted-level-1) 1pt solid;\n",
              "}\n",
              "\n",
              "#sk-container-id-1 a.estimator_doc_link.fitted {\n",
              "  /* fitted */\n",
              "  border: var(--sklearn-color-fitted-level-1) 1pt solid;\n",
              "  color: var(--sklearn-color-fitted-level-1);\n",
              "}\n",
              "\n",
              "/* On hover */\n",
              "#sk-container-id-1 a.estimator_doc_link:hover {\n",
              "  /* unfitted */\n",
              "  background-color: var(--sklearn-color-unfitted-level-3);\n",
              "  color: var(--sklearn-color-background);\n",
              "  text-decoration: none;\n",
              "}\n",
              "\n",
              "#sk-container-id-1 a.estimator_doc_link.fitted:hover {\n",
              "  /* fitted */\n",
              "  background-color: var(--sklearn-color-fitted-level-3);\n",
              "}\n",
              "</style><div id=\"sk-container-id-1\" class=\"sk-top-container\"><div class=\"sk-text-repr-fallback\"><pre>LogisticRegression()</pre><b>In a Jupyter environment, please rerun this cell to show the HTML representation or trust the notebook. <br />On GitHub, the HTML representation is unable to render, please try loading this page with nbviewer.org.</b></div><div class=\"sk-container\" hidden><div class=\"sk-item\"><div class=\"sk-estimator fitted sk-toggleable\"><input class=\"sk-toggleable__control sk-hidden--visually\" id=\"sk-estimator-id-1\" type=\"checkbox\" checked><label for=\"sk-estimator-id-1\" class=\"sk-toggleable__label fitted sk-toggleable__label-arrow\"><div><div>LogisticRegression</div></div><div><a class=\"sk-estimator-doc-link fitted\" rel=\"noreferrer\" target=\"_blank\" href=\"https://scikit-learn.org/1.6/modules/generated/sklearn.linear_model.LogisticRegression.html\">?<span>Documentation for LogisticRegression</span></a><span class=\"sk-estimator-doc-link fitted\">i<span>Fitted</span></span></div></label><div class=\"sk-toggleable__content fitted\"><pre>LogisticRegression()</pre></div> </div></div></div></div>"
            ]
          },
          "metadata": {},
          "execution_count": 21
        }
      ],
      "source": [
        "# REQUIRED HOMEWORK\n",
        "model = LogisticRegression()\n",
        "model.fit(X_train, y_train)"
      ]
    },
    {
      "cell_type": "markdown",
      "metadata": {
        "id": "FyCDtA0QqikC"
      },
      "source": [
        "### **Exercise 7:** Evaluate your model manually\n",
        "\n",
        "1. Choose a random index of an image.\n",
        "2. Display the image.\n",
        "3. Print the original label.\n",
        "4. Print the predicted label.\n",
        "5. Repeat this process multiple times to identify which pictures are more challenging for the model."
      ]
    },
    {
      "cell_type": "markdown",
      "metadata": {
        "id": "cn8tvYOyqR5I"
      },
      "source": [
        "### **Exercise 8:** Report the overall accuracy of your classifier"
      ]
    },
    {
      "cell_type": "code",
      "execution_count": 23,
      "metadata": {
        "id": "xo10iTsZq66K",
        "colab": {
          "base_uri": "https://localhost:8080/"
        },
        "outputId": "6a3c82ec-2ffc-4a56-8bb5-20ac503e2ae6"
      },
      "outputs": [
        {
          "output_type": "stream",
          "name": "stdout",
          "text": [
            "Accuracy: 66.00 %\n"
          ]
        }
      ],
      "source": [
        "# REQUIRED HOMEWORK\n",
        "y_pred = model.predict(X_test)\n",
        "accuracy = accuracy_score(y_test, y_pred)\n",
        "print(f\"Accuracy: {accuracy * 100:.2f} %\")"
      ]
    },
    {
      "cell_type": "markdown",
      "metadata": {
        "id": "MODwrzh8rCti"
      },
      "source": [
        "## MNIST dataset (Exercise 9-12) - Optional, if you have extra time"
      ]
    },
    {
      "cell_type": "code",
      "execution_count": 24,
      "metadata": {
        "colab": {
          "base_uri": "https://localhost:8080/"
        },
        "id": "7utkStuDrs96",
        "outputId": "3e1bafa5-815e-470b-9938-3b0c2f5edd8f"
      },
      "outputs": [
        {
          "output_type": "stream",
          "name": "stdout",
          "text": [
            "Downloading data from https://storage.googleapis.com/tensorflow/tf-keras-datasets/mnist.npz\n",
            "\u001b[1m11490434/11490434\u001b[0m \u001b[32m━━━━━━━━━━━━━━━━━━━━\u001b[0m\u001b[37m\u001b[0m \u001b[1m0s\u001b[0m 0us/step\n"
          ]
        }
      ],
      "source": [
        "# OPTIONAL HOMEWORK\n",
        "#import mnist dataset\n",
        "from keras.datasets import mnist\n",
        "(x_train, y_train), (x_test, y_test) = mnist.load_data()"
      ]
    },
    {
      "cell_type": "code",
      "execution_count": 25,
      "metadata": {
        "colab": {
          "base_uri": "https://localhost:8080/"
        },
        "id": "EcCC08Sexfx0",
        "outputId": "cdbc061a-a2c8-4127-c78c-065819e3ecfd"
      },
      "outputs": [
        {
          "output_type": "execute_result",
          "data": {
            "text/plain": [
              "(60000, 28, 28)"
            ]
          },
          "metadata": {},
          "execution_count": 25
        }
      ],
      "source": [
        "x_train.shape"
      ]
    },
    {
      "cell_type": "code",
      "execution_count": 29,
      "metadata": {
        "colab": {
          "base_uri": "https://localhost:8080/",
          "height": 482
        },
        "id": "KMQ1_aSfxkZI",
        "outputId": "45a2f84b-1d0b-4148-8249-908327e11a97"
      },
      "outputs": [
        {
          "output_type": "stream",
          "name": "stdout",
          "text": [
            "Label:  5\n",
            "Image Shape:  (28, 28)\n"
          ]
        },
        {
          "output_type": "execute_result",
          "data": {
            "text/plain": [
              "<matplotlib.colorbar.Colorbar at 0x7d22091d0790>"
            ]
          },
          "metadata": {},
          "execution_count": 29
        },
        {
          "output_type": "display_data",
          "data": {
            "text/plain": [
              "<Figure size 640x480 with 2 Axes>"
            ],
            "image/png": "[encoded data removed]"
          },
          "metadata": {}
        }
      ],
      "source": [
        "#Note: Run this cell multiple times\n",
        "index = np.random.randint(0, x_train.shape[0])\n",
        "print(\"Label: \", y_train[index])\n",
        "print(\"Image Shape: \", x_train[index].shape)\n",
        "plt.imshow(x_train[index], cmap='gray')\n",
        "plt.colorbar()"
      ]
    },
    {
      "cell_type": "markdown",
      "metadata": {
        "id": "FbfT3xU5Qz73"
      },
      "source": [
        "### **Excercise 9:** What is the difference between a black-and-white image and a color image in terms of numerical representation?\n",
        "\n",
        "### Hint: check the number of channels in the two types of images."
      ]
    },
    {
      "cell_type": "markdown",
      "metadata": {
        "id": "vPdYZ_xmRPgF"
      },
      "source": [
        "your answer here:"
      ]
    },
    {
      "cell_type": "markdown",
      "metadata": {
        "id": "yLGuNDA_OmlI"
      },
      "source": [
        "### **Exercise 10:** Select one data sample and flatten it. What is the size of the flattened image and why?"
      ]
    },
    {
      "cell_type": "code",
      "execution_count": null,
      "metadata": {
        "id": "-3Qn0NusO_O1"
      },
      "outputs": [],
      "source": [
        "## your code here"
      ]
    },
    {
      "cell_type": "markdown",
      "metadata": {
        "id": "q-5Chwg8PXEt"
      },
      "source": [
        "### **Excercise 11:** Flatten the images in Train and Test Datasets so that each image is a 1D array"
      ]
    },
    {
      "cell_type": "code",
      "execution_count": null,
      "metadata": {
        "id": "dZqqdh6IOvHz"
      },
      "outputs": [],
      "source": [
        "##your code here"
      ]
    },
    {
      "cell_type": "markdown",
      "metadata": {
        "id": "0hOtLEmJN3hh"
      },
      "source": [
        "### **Excercise 12:** Implement Logistic Regression on MNIST dataset using scikit-learn. What is the accuracy of your model?"
      ]
    },
    {
      "cell_type": "code",
      "execution_count": null,
      "metadata": {
        "id": "l5xTt1bMN3hh"
      },
      "outputs": [],
      "source": [
        "#your code here"
      ]
    }
  ],
  "metadata": {
    "colab": {
      "provenance": []
    },
    "kernelspec": {
      "display_name": "Python 3",
      "name": "python3"
    },
    "language_info": {
      "name": "python",
      "version": "3.13.1"
    }
  },
  "nbformat": 4,
  "nbformat_minor": 0
}